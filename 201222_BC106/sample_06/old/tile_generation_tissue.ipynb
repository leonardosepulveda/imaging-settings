{
 "cells": [
  {
   "cell_type": "code",
   "execution_count": 14,
   "metadata": {},
   "outputs": [],
   "source": [
    "import pandas as pd\n",
    "import numpy as np\n",
    "from shapely import geometry\n",
    "from shapely.ops import cascaded_union"
   ]
  },
  {
   "cell_type": "code",
   "execution_count": 31,
   "metadata": {},
   "outputs": [],
   "source": [
    "#To generate positions to image for tissue slices, select n points at the edge of the desired area for each slice\n",
    "#and generate n*n tiles centered at the desired region. The tiles that are not overlapped with the desired region are removed. \n",
    "#points = pd.read_csv(\"E:/Meng_temp/191111_CTb_647_sample3/settings/contours.txt\", header = None, sep=',')\n",
    "points = pd.read_csv(\"E:/Tim/FLARE/191117/positions/picked_positions.txt\", header = None, sep=',')\n",
    "\n",
    "NoOfTissues = 4\n",
    "NoOfTissuesBottom = 0"
   ]
  },
  {
   "cell_type": "code",
   "execution_count": 32,
   "metadata": {},
   "outputs": [],
   "source": [
    "a = 20\n",
    "\n",
    "grid = []\n",
    "for x in range(-a, a+1):\n",
    "  for y in range(-a, a+1):\n",
    "    if x % 2 == 0:\n",
    "        grid.append((x*200, y*200))\n",
    "    else:\n",
    "        grid.append((x*200, -y*200))\n",
    "    \n",
    "grid_R =  grid[::-1]\n",
    "grid = np.array(grid)\n",
    "grid_R = np.array(grid_R)"
   ]
  },
  {
   "cell_type": "code",
   "execution_count": 33,
   "metadata": {
    "scrolled": true
   },
   "outputs": [],
   "source": [
    "n = 7 #number of positions you selected for each slice to define the region of interest\n",
    "\n",
    "positions = np.empty((0,2))\n",
    "for i in range(0,NoOfTissuesBottom):\n",
    "    tissue = geometry.Polygon(points.values[n*i:n*(i+1)])\n",
    "    center = np.mean(points.values[n*i:n*(i+1)], axis = 0)\n",
    "    grids = grid_R + center\n",
    "    saved = np.empty((0,2))\n",
    "    for j in range(0,len(grids)):\n",
    "        area = [[grids[j][0]-100,grids[j][1]-100],[grids[j][0]-100,grids[j][1]+100],[grids[j][0]+100,grids[j][1]+100],[grids[j][0]+100,grids[j][1]-100]]\n",
    "        tile = geometry.Polygon([[p[0], p[1]] for p in area])\n",
    "        if tissue.intersects(tile) == True:\n",
    "            saved = np.concatenate((saved,np.array([grids[j]])), axis = 0)\n",
    "    positions = np.concatenate((positions,saved))\n",
    "    \n",
    "for i in range(NoOfTissuesBottom,NoOfTissues):\n",
    "    tissue = geometry.Polygon(points.values[n*i:n*(i+1)])\n",
    "    center = np.mean(points.values[n*i:n*(i+1)], axis = 0)\n",
    "    grids = grid + center\n",
    "    saved = np.empty((0,2))\n",
    "    for j in range(0,len(grids)):\n",
    "        area = [[grids[j][0]-100,grids[j][1]-100],[grids[j][0]-100,grids[j][1]+100],[grids[j][0]+100,grids[j][1]+100],[grids[j][0]+100,grids[j][1]-100]]\n",
    "        tile = geometry.Polygon([[p[0], p[1]] for p in area])\n",
    "        if tissue.intersects(tile) == True:\n",
    "            saved = np.concatenate((saved,np.array([grids[j]])), axis = 0)\n",
    "    positions = np.concatenate((positions,saved))"
   ]
  },
  {
   "cell_type": "code",
   "execution_count": 34,
   "metadata": {},
   "outputs": [],
   "source": [
    "#np.savetxt('E:/Meng_temp/191111_CTb_647_sample3/settings/tiles_before.txt', positions, delimiter=',')\n",
    "np.savetxt('E:/Tim/FLARE/191117/positions/positions.txt', positions, delimiter=',')"
   ]
  },
  {
   "cell_type": "code",
   "execution_count": null,
   "metadata": {},
   "outputs": [],
   "source": []
  }
 ],
 "metadata": {
  "kernelspec": {
   "display_name": "Python 3",
   "language": "python",
   "name": "python3"
  },
  "language_info": {
   "codemirror_mode": {
    "name": "ipython",
    "version": 3
   },
   "file_extension": ".py",
   "mimetype": "text/x-python",
   "name": "python",
   "nbconvert_exporter": "python",
   "pygments_lexer": "ipython3",
   "version": "3.6.5"
  }
 },
 "nbformat": 4,
 "nbformat_minor": 2
}
